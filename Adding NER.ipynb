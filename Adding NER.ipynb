{
 "cells": [
  {
   "cell_type": "code",
   "execution_count": 1,
   "id": "14264ea9-00dd-4d6c-b4f6-7e3b9224b44e",
   "metadata": {},
   "outputs": [],
   "source": [
    "import spacy\n",
    "\n",
    "nlp = spacy.load('en_core_web_sm')"
   ]
  },
  {
   "cell_type": "code",
   "execution_count": 2,
   "id": "11c2c282-5d3a-49aa-8344-2e6ffc12c41b",
   "metadata": {},
   "outputs": [],
   "source": [
    "doc = nlp(u'There are so many vaccum cleaner at the vaccum-cleaner company.')"
   ]
  },
  {
   "cell_type": "code",
   "execution_count": 6,
   "id": "a21da7d0-37d3-4fc7-815b-1b5075831005",
   "metadata": {},
   "outputs": [],
   "source": [
    "def show_ents(doc):\n",
    "    if not doc.ents:\n",
    "        print('No entities available!')\n",
    "        return\n",
    "    for ent in doc.ents:\n",
    "        print(f'{ent.text}, {ent.label_}, {spacy.explain(ent.label_)}')"
   ]
  },
  {
   "cell_type": "code",
   "execution_count": 7,
   "id": "12dee51f-6ba3-4087-b929-672c4e31a9ee",
   "metadata": {},
   "outputs": [
    {
     "name": "stdout",
     "output_type": "stream",
     "text": [
      "No entities available!\n"
     ]
    }
   ],
   "source": [
    "show_ents(doc)"
   ]
  },
  {
   "cell_type": "code",
   "execution_count": 9,
   "id": "4527b0e0-f46a-4e4b-a31d-f3a5ffdf1233",
   "metadata": {},
   "outputs": [
    {
     "data": {
      "text/plain": [
       "vaccum cleaner"
      ]
     },
     "execution_count": 9,
     "metadata": {},
     "output_type": "execute_result"
    }
   ],
   "source": [
    "doc[4:6]"
   ]
  },
  {
   "cell_type": "code",
   "execution_count": 21,
   "id": "5bd3721c-3b55-422f-bf93-9ae27e8826a5",
   "metadata": {},
   "outputs": [],
   "source": [
    "from spacy.matcher import PhraseMatcher\n",
    "\n",
    "matcher = ['vaccum cleaner', 'vaccum-cleaner']\n",
    "matcher = [nlp(text) for text in matcher]"
   ]
  },
  {
   "cell_type": "code",
   "execution_count": 22,
   "id": "f11ea63d-edfe-4701-8677-902cd2525b32",
   "metadata": {},
   "outputs": [],
   "source": [
    "phrase_matcher = PhraseMatcher(nlp.vocab)"
   ]
  },
  {
   "cell_type": "code",
   "execution_count": 23,
   "id": "d8513efb-d84d-4759-8769-41a5ea92bb1e",
   "metadata": {},
   "outputs": [],
   "source": [
    "phrase_matcher.add('newProduct', None, *matcher)"
   ]
  },
  {
   "cell_type": "code",
   "execution_count": 25,
   "id": "418dbccc-fa24-4550-a127-c6675a81377b",
   "metadata": {},
   "outputs": [],
   "source": [
    "found_matches = phrase_matcher(doc)"
   ]
  },
  {
   "cell_type": "code",
   "execution_count": 27,
   "id": "e46caaa6-9f74-4bdb-85ad-5727248276ca",
   "metadata": {},
   "outputs": [
    {
     "data": {
      "text/plain": [
       "386"
      ]
     },
     "execution_count": 27,
     "metadata": {},
     "output_type": "execute_result"
    }
   ],
   "source": [
    "PROD = doc.vocab.strings[u'PRODUCT']\n",
    "PROD"
   ]
  },
  {
   "cell_type": "code",
   "execution_count": 28,
   "id": "6cda241c-a6b1-4b4e-8919-c6f27838cd2b",
   "metadata": {},
   "outputs": [
    {
     "name": "stdout",
     "output_type": "stream",
     "text": [
      "vaccum cleaner, PRODUCT, Objects, vehicles, foods, etc. (not services)\n",
      "vaccum-cleaner, PRODUCT, Objects, vehicles, foods, etc. (not services)\n"
     ]
    }
   ],
   "source": [
    "from spacy.tokens import Span\n",
    "\n",
    "doc.ents = list(doc.ents) + [Span(doc, match[1], match[2], label=PROD) for match in found_matches]\n",
    "show_ents(doc)"
   ]
  },
  {
   "cell_type": "code",
   "execution_count": 29,
   "id": "284e9fbc-1bd7-4ef8-8c2d-99d6a20662a5",
   "metadata": {},
   "outputs": [
    {
     "name": "stdout",
     "output_type": "stream",
     "text": [
      "2\n"
     ]
    }
   ],
   "source": [
    "print( len( [ent for ent in doc.ents if ent.label_=='PRODUCT'] ) )"
   ]
  },
  {
   "cell_type": "code",
   "execution_count": null,
   "id": "4b05b30e-f9a0-47c4-b469-143f1514f084",
   "metadata": {},
   "outputs": [],
   "source": []
  }
 ],
 "metadata": {
  "kernelspec": {
   "display_name": "Python 3 (ipykernel)",
   "language": "python",
   "name": "python3"
  },
  "language_info": {
   "codemirror_mode": {
    "name": "ipython",
    "version": 3
   },
   "file_extension": ".py",
   "mimetype": "text/x-python",
   "name": "python",
   "nbconvert_exporter": "python",
   "pygments_lexer": "ipython3",
   "version": "3.12.8"
  }
 },
 "nbformat": 4,
 "nbformat_minor": 5
}
